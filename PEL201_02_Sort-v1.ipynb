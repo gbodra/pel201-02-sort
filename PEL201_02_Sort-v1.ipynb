{
 "cells": [
  {
   "cell_type": "markdown",
   "metadata": {
    "id": "wDKRRCv3Dc82"
   },
   "source": [
    "# Exercício 02 - PEL201\n",
    "\n",
    "## Exercício\n",
    "Implemente os algoritmos QUICKSORT e BUBBLESORT. Implemente duas versões do QUICKSORT, o que pega um valor aleatório do vetor e outro que pega somente o primeiro elemento. Faça uma comparação de desempenho dos 3 algoritmos."
   ]
  },
  {
   "cell_type": "code",
   "execution_count": 1,
   "metadata": {
    "id": "qxB6xRTZDW7H"
   },
   "outputs": [],
   "source": [
    "import time\n",
    "from tqdm import tqdm\n",
    "import matplotlib.pyplot as plt\n",
    "import numpy as np\n",
    "from numpy import random"
   ]
  },
  {
   "cell_type": "markdown",
   "metadata": {},
   "source": [
    "### Explique, em palavras, como é a solução do Bubble Sort e apresente o código do algoritmo implementado (identificando a linguagem usada)\n",
    "Linguagem: `Python`\n",
    "\n",
    "O algoritmo Bubblesort consiste em percorrer todos os itens da lista e compará-los com o item imediatamente posterior. Caso o item posterior seja menor, realiza a troca de posições. Este processo é repetido até que não hajam mais trocas."
   ]
  },
  {
   "cell_type": "code",
   "execution_count": 2,
   "metadata": {
    "id": "BAM7WZbqDlQY"
   },
   "outputs": [],
   "source": [
    "def bubblesort(input_list):\n",
    "    n = len(input_list)\n",
    "    \n",
    "    while True:\n",
    "        swapped = False\n",
    "        \n",
    "        for i in range(n - 1):\n",
    "            if input_list[i] > input_list[i+1]:\n",
    "                input_list[i], input_list[i+1] = input_list[i+1], input_list[i] #swap\n",
    "                swapped = True\n",
    "        \n",
    "        if swapped == False:\n",
    "            break\n",
    "        \n",
    "    return input_list"
   ]
  },
  {
   "cell_type": "code",
   "execution_count": 3,
   "metadata": {},
   "outputs": [],
   "source": [
    "test = [100, 200, 300, 400, 500, 600, 700, 800, 900, 1000, 1500, 2000, 2500, 3000, 3500, 4000, 4500, 5000, 5500, 6000]"
   ]
  },
  {
   "cell_type": "code",
   "execution_count": 4,
   "metadata": {},
   "outputs": [
    {
     "name": "stderr",
     "output_type": "stream",
     "text": [
      "100%|██████████| 20/20 [01:38<00:00,  4.94s/it]\n"
     ]
    }
   ],
   "source": [
    "bs_execucao = []\n",
    "\n",
    "for i in tqdm(test):\n",
    "    arr = random.randint(max(test), size=(i))\n",
    "    arr = list(arr)\n",
    "    bubble_start = time.time()\n",
    "    arr_sorted = bubblesort(arr)\n",
    "    bubble_end = time.time()\n",
    "    bs_execucao.append(bubble_end - bubble_start)"
   ]
  },
  {
   "cell_type": "markdown",
   "metadata": {},
   "source": [
    "### Explique, em palavras, como é a solução do QUICKSORT (em suas duas versões) e apresente o código do algoritmo implementado (identificando a linguagem usada)\n",
    "Linguagem: `Python`\n",
    "\n",
    "O algoritmo Quicksort consistem em três passos:\n",
    "\n",
    "1. Escolher um item da lista como pivô. Existem diversas estratégias para fazer esta escolha (ex.: primeiro item, último item, aleatório, etc);\n",
    "\n",
    "2. Após a escolha do pivô é realizada a fase de particionamento. Nesta fase todos os itens menores que o pivô são posicionados antes e os maior são posicionados depois.\n",
    "\n",
    "3. Por último, execute de forma recursiva duas chamadas ao quicksort, uma para os itens menores que o pivô e outra para os itens maiores."
   ]
  },
  {
   "cell_type": "code",
   "execution_count": 5,
   "metadata": {},
   "outputs": [],
   "source": [
    "def quicksort(input_list, start, end, mode):\n",
    "    if start < end:\n",
    "        p = partition(input_list, start, end, mode)\n",
    "        quicksort(input_list, start, p - 1, mode)\n",
    "        quicksort(input_list, p + 1, end, mode)\n",
    "        \n",
    "def partition(part_list, part_start, part_end, mode):\n",
    "    if mode == \"start\":\n",
    "        pivot = part_list[part_start]\n",
    "    else:\n",
    "        pivot_index = random.randint(part_start,part_end)\n",
    "        pivot = part_list[pivot_index]\n",
    "        part_list[pivot_index], part_list[part_start] = part_list[part_start], part_list[pivot_index]\n",
    "    \n",
    "    i = part_start + 1\n",
    "    \n",
    "    for j in range(part_start + 1,part_end + 1):\n",
    "        if part_list[j] < pivot:\n",
    "            part_list[i], part_list[j] = part_list[j], part_list[i]\n",
    "            i += 1\n",
    "    part_list[part_start], part_list[i-1] = part_list[i-1], part_list[part_start]\n",
    "    \n",
    "    return i-1"
   ]
  },
  {
   "cell_type": "code",
   "execution_count": 6,
   "metadata": {},
   "outputs": [
    {
     "name": "stderr",
     "output_type": "stream",
     "text": [
      "100%|██████████| 20/20 [00:00<00:00, 41.76it/s] \n"
     ]
    }
   ],
   "source": [
    "qs_first_execucao = []\n",
    "\n",
    "for i in tqdm(test):\n",
    "    arr = random.randint(max(test), size=(i))\n",
    "    arr = list(arr)\n",
    "    qs_first_start = time.time()\n",
    "    arr_sorted = quicksort(arr, 0, len(arr) - 1, \"start\")\n",
    "    qs_first_end = time.time()\n",
    "    qs_first_execucao.append(qs_first_end - qs_first_start)"
   ]
  },
  {
   "cell_type": "code",
   "execution_count": 7,
   "metadata": {},
   "outputs": [
    {
     "name": "stderr",
     "output_type": "stream",
     "text": [
      "100%|██████████| 20/20 [00:01<00:00, 17.68it/s]\n"
     ]
    }
   ],
   "source": [
    "qs_random_execucao = []\n",
    "\n",
    "for i in tqdm(test):\n",
    "    arr = random.randint(max(test), size=(i))\n",
    "    arr = list(arr)\n",
    "    qs_random_start = time.time()\n",
    "    arr_sorted = quicksort(arr, 0, len(arr) - 1, \"random\")\n",
    "    qs_random_end = time.time()\n",
    "    qs_random_execucao.append(qs_random_end - qs_random_start)"
   ]
  },
  {
   "cell_type": "code",
   "execution_count": 8,
   "metadata": {},
   "outputs": [
    {
     "data": {
      "image/png": "[encoded data removed]",
      "text/plain": [
       "<Figure size 432x288 with 1 Axes>"
      ]
     },
     "metadata": {
      "needs_background": "light"
     },
     "output_type": "display_data"
    }
   ],
   "source": [
    "fig, ax = plt.subplots()\n",
    "\n",
    "line1, = ax.plot(bs_execucao, label='Bubblesort')\n",
    "\n",
    "line2, = ax.plot(qs_first_execucao, label='Quicksort - 1 Elemento')\n",
    "\n",
    "line3, = ax.plot(qs_random_execucao, label='Quicksort - Aleatório')\n",
    "\n",
    "ax.legend()\n",
    "plt.show()"
   ]
  },
  {
   "cell_type": "code",
   "execution_count": 9,
   "metadata": {},
   "outputs": [
    {
     "data": {
      "image/png": "[encoded data removed]",
      "text/plain": [
       "<Figure size 432x288 with 1 Axes>"
      ]
     },
     "metadata": {
      "needs_background": "light"
     },
     "output_type": "display_data"
    }
   ],
   "source": [
    "fig, ax = plt.subplots()\n",
    "\n",
    "line1, = ax.plot(qs_first_execucao, label='Quicksort - 1 Elemento')\n",
    "\n",
    "line2, = ax.plot(qs_random_execucao, label='Quicksort - Aleatório')\n",
    "\n",
    "ax.legend()\n",
    "plt.show()"
   ]
  },
  {
   "cell_type": "markdown",
   "metadata": {},
   "source": [
    "### Análise dos Resultados\n",
    "\n",
    "Comparando os resultados entre os três algoritmos podemos perceber que o Bubblesort apresenta uma curva muito semelhante a uma função exponencial enquanto o Quicksort apresenta um comportamento mais constante (ambas as versões: utilizando o primeiro elemento como pivô ou utilizando um ponto aleatório como pivô).\n",
    "\n",
    "Porém, ao comparar somente as duas formas de se executar o Quicksort podemos perceber que ao utilizar o primeiro elemento como pivô temos um resultado mais eficiente em relação ao tempo de execução."
   ]
  },
  {
   "cell_type": "code",
   "execution_count": null,
   "metadata": {},
   "outputs": [],
   "source": []
  }
 ],
 "metadata": {
  "colab": {
   "collapsed_sections": [],
   "name": "PEL201_01_MDC.ipynb",
   "provenance": [],
   "toc_visible": true
  },
  "kernelspec": {
   "display_name": "Python 3",
   "language": "python",
   "name": "python3"
  },
  "language_info": {
   "codemirror_mode": {
    "name": "ipython",
    "version": 3
   },
   "file_extension": ".py",
   "mimetype": "text/x-python",
   "name": "python",
   "nbconvert_exporter": "python",
   "pygments_lexer": "ipython3",
   "version": "3.6.9"
  }
 },
 "nbformat": 4,
 "nbformat_minor": 4
}
